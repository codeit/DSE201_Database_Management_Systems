{
 "cells": [
  {
   "cell_type": "markdown",
   "metadata": {},
   "source": [
    "<h1 align=\"center\"> Cats Pre-Computation </h1>\n",
    "<h2 align=\"center\"> Michael Galarnyk </h2> <p></p>"
   ]
  },
  {
   "cell_type": "markdown",
   "metadata": {},
   "source": [
    "<b>Original Query</b> <br>"
   ]
  },
  {
   "cell_type": "markdown",
   "metadata": {
    "collapsed": false
   },
   "source": [
    "WITH WeightOfUsers <br>\n",
    "AS (<br>\n",
    "\t&emsp;&emsp;SELECT ly.user_id <br>\n",
    "\t\t&emsp;&emsp;&emsp;&emsp;,LOG(1 + COUNT(*)) AS weight <br>\n",
    "\t&emsp;&emsp;FROM cats.LIKE lx <br>\n",
    "\t\t&emsp;&emsp;&emsp;&emsp;,cats.LIKE ly <br>\n",
    "\t&emsp;&emsp;WHERE lx.user_id = 1 <br>\n",
    "\t\t&emsp;&emsp;&emsp;&emsp;AND lx.video_id = ly.video_id <br>\n",
    "\t&emsp;&emsp;GROUP BY ly.user_id <br>\n",
    "\t&emsp;&emsp;) <br>\n",
    "SELECT l.video_id <br>\n",
    "\t&emsp;&emsp;,SUM(w.weight) AS sum_weight <br>\n",
    "FROM cats.LIKE l <br>\n",
    "\t&emsp;&emsp;,WeightOfUsers w <br>\n",
    "WHERE l.user_id = w.user_id <br>\n",
    "GROUP BY l.video_id <br>\n",
    "ORDER BY sum_weight DESC LIMIT 10 <br>\n"
   ]
  },
  {
   "cell_type": "markdown",
   "metadata": {
    "collapsed": false
   },
   "source": [
    "<img src = \"images/query_cost.png\">"
   ]
  },
  {
   "cell_type": "markdown",
   "metadata": {},
   "source": [
    "<img src = \"images/query_plan.png\">"
   ]
  },
  {
   "cell_type": "markdown",
   "metadata": {},
   "source": [
    "<b>New Query</b> <br>"
   ]
  },
  {
   "cell_type": "markdown",
   "metadata": {
    "collapsed": false
   },
   "source": [
    "<b>New Query</b> <br>"
   ]
  },
  {
   "cell_type": "markdown",
   "metadata": {
    "collapsed": false
   },
   "source": [
    "Using user_id = 30442 for all queries <br>"
   ]
  },
  {
   "cell_type": "markdown",
   "metadata": {
    "collapsed": true
   },
   "source": [
    "WITH WeightOfUsers\n",
    "AS (\n",
    "\tSELECT y_user_id user_id, \n",
    "\tlog(sum(1+weight)) weight\n",
    "\tFROM cats.PRE_WeightOfUsers\n",
    "\tWHERE x_user_id = 30442\n",
    "\tGROUP BY y_user_id\n",
    "\t)\n",
    "\n",
    "SELECT l.video_id, SUM(w.weight) sum_weight\n",
    "FROM cats.LIKE l, WeightOfUsers w \n",
    "WHERE l.user_id = w.user_id\n",
    "GROUP BY l.video_id\n",
    "ORDER BY sum_weight DESC LIMIT 10"
   ]
  },
  {
   "cell_type": "markdown",
   "metadata": {},
   "source": [
    "<img src = \"images/new_query_cost.png\">\n",
    "<img src = \"images/new_query_plan.png\">"
   ]
  },
  {
   "cell_type": "code",
   "execution_count": null,
   "metadata": {
    "collapsed": true
   },
   "outputs": [],
   "source": []
  }
 ],
 "metadata": {
  "kernelspec": {
   "display_name": "Python 2",
   "language": "python",
   "name": "python2"
  },
  "language_info": {
   "codemirror_mode": {
    "name": "ipython",
    "version": 2
   },
   "file_extension": ".py",
   "mimetype": "text/x-python",
   "name": "python",
   "nbconvert_exporter": "python",
   "pygments_lexer": "ipython2",
   "version": "2.7.11"
  }
 },
 "nbformat": 4,
 "nbformat_minor": 0
}
