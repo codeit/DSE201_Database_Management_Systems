{
 "cells": [
  {
   "cell_type": "markdown",
   "metadata": {},
   "source": [
    "# Worksheet 4 Random Variable, Expectation, and Variance (1,2,3,6,7a,7c,8,12)\n",
    "# author: Michael Galarnyk"
   ]
  },
  {
   "cell_type": "markdown",
   "metadata": {},
   "source": [
    "<b>1)</b> A die is thrown twice. Let $ X_{1}$ and $ X_{2} $ denote the outcomes, and define random variable X to be the minimum of $ X_1 $ and $ X_2 $. Determine the distribution of X. <p>\n",
    "\n"
   ]
  },
  {
   "cell_type": "markdown",
   "metadata": {},
   "source": [
    "np where n = 2 <p></p> \n",
    "<b>2p</b>"
   ]
  },
  {
   "cell_type": "markdown",
   "metadata": {
    "collapsed": true
   },
   "source": [
    "<b>2)</b> A fair die is rolled repeatedly until a six is seen. What is the expected number of rolls? "
   ]
  },
  {
   "cell_type": "markdown",
   "metadata": {},
   "source": [
    "\n",
    "\n",
    "np = n/6"
   ]
  },
  {
   "cell_type": "markdown",
   "metadata": {},
   "source": [
    "<b>3)</b> On any given day, the probability it will be sunny is 0.8, the probability you will have a nice dinner is 0.25, and the probability that you will get to bed early is 0.5. Assume these three events are independent. What is the expected number of days before all three of them happen together <p> \n",
    "\n",
    "(1/.8) + (1/.25) + (1/ .2)"
   ]
  },
  {
   "cell_type": "code",
   "execution_count": 4,
   "metadata": {
    "collapsed": false
   },
   "outputs": [
    {
     "name": "stdout",
     "output_type": "stream",
     "text": [
      "10.25\n"
     ]
    }
   ],
   "source": [
    "(1/.8) + (1/.25) + (1/.2)\n",
    "print ((1/.8) + (1/.25) + (1/.2))"
   ]
  },
  {
   "cell_type": "markdown",
   "metadata": {},
   "source": [
    "<b>6)</b> There is a dormitory with n beds for n students. One night the power goes out, and because it is dark, each student gets into a bed chosen uniformly at random. What is the expected number of students who end up in their own bed?  \n",
    "\n",
    "X = {1 if person ends up in correct bed. \n",
    "    0}\n",
    "    \n",
    "X = X + ... + X$_{n}$\n",
    "\n"
   ]
  },
  {
   "cell_type": "markdown",
   "metadata": {},
   "source": [
    "<b>7)</b> In each of the following cases, say whether X and Y are independent. \n",
    "\n",
    "<p>(a) You randomly permute (1,2,...,n). X is the number in the first position and Y is the number in the second position. </p>\n",
    "<p></p>They are independent. \n",
    "<p>(c) You randomly pick a card from a pack of 52 cards. X is 1 if the card is a nine, and is 0 otherwise. Y is 1 if the card is a heart, and is 0 otherwise</p> \n",
    "<p></p> They are independent"
   ]
  },
  {
   "cell_type": "markdown",
   "metadata": {},
   "source": [
    "<b>8)</b> A die has six sides that come up with different probabilities: <p></p> \n",
    "Pr(1) = Pr(2) = Pr(3) = Pr(4) = (1/8), Pr(5) = Pr(6) = 1/4 <p></p>\n",
    "\n",
    "(a) You roll the die; let Z be the outcome. What is E(Z) and var(Z)? <p></p>\n",
    "E(Z) = 1(1/8) + 2(1/8) + 3(1/8) + 4(1/8) + 5(1/4) + 6(1/4)"
   ]
  },
  {
   "cell_type": "code",
   "execution_count": 8,
   "metadata": {
    "collapsed": false
   },
   "outputs": [
    {
     "name": "stdout",
     "output_type": "stream",
     "text": [
      "E(Z): 4.0\n"
     ]
    }
   ],
   "source": [
    "print 'E(Z):', 1*(float(1)/8) + 2*(float(1)/8) + 3*(float(1)/8) + 4*(float(1)/8) + 5*float(1)/4 + 6*float(1)/4\n",
    "print 'E(Z)', 1*(float(1)/8) + 2*(float(1)/8) + 3*(float(1)/8) + 4*(float(1)/8) + 5*float(1)/4 + 6*float(1)/4"
   ]
  },
  {
   "cell_type": "markdown",
   "metadata": {},
   "source": []
  },
  {
   "cell_type": "code",
   "execution_count": 8,
   "metadata": {
    "collapsed": false
   },
   "outputs": [
    {
     "name": "stdout",
     "output_type": "stream",
     "text": [
      "0.833333333333\n"
     ]
    }
   ],
   "source": [
    "print ((0.05)*(.5)) / ((0.05*.5)+ (0.01 *.5))"
   ]
  },
  {
   "cell_type": "markdown",
   "metadata": {
    "collapsed": true
   },
   "source": [
    "<b>15a)</b> A coin is tossed three times. Consider the following five events? <p> \n",
    "<li> A: Heads on the first toss </li>\n",
    "<li> B: Tails on the second toss </li>\n",
    "<li> C: Heads on the third toss </li>\n",
    "<li> D: All three outcomes the same </li>\n",
    "<li> E: Heads on the first toss </li><p> \n",
    "(a) Which of the following pairs of events are independent? <p> \n",
    "(1) A, B <p> \n",
    "<b>Independent</b><p>\n",
    "(2) A, D <p> \n",
    "<b>Independent</b><p>\n",
    "(3) A, E <p> \n",
    "<b>Dependent</b><p>\n",
    "(4) D, E <p> \n",
    "<b>Dependent</b><p>"
   ]
  },
  {
   "cell_type": "markdown",
   "metadata": {},
   "source": [
    "<b>16)</b> You randomly shuffle a standard deck and deal two cards. Which of the following pairs of events are independent? <p> \n",
    "(1) A = {first card is a heart}, B = {second card is a heart} <p>\n",
    "<b>DEPENDENT</b><p>\n",
    "(2) A = {first card is a heart}, B = {first card is a 10}<p>\n",
    "<b>INDEPENDENT</b><p>\n",
    "(3) A = {first card is a 10}, B = {second card is a 9} <p> \n",
    "<b>DEPENDENT</b><p>\n",
    "(4) A = {first card is a heart}, B = {second card is a 10} <p> \n",
    "<b>INDEPENDENT</b><p>"
   ]
  }
 ],
 "metadata": {
  "kernelspec": {
   "display_name": "Python 2",
   "language": "python",
   "name": "python2"
  },
  "language_info": {
   "codemirror_mode": {
    "name": "ipython",
    "version": 2
   },
   "file_extension": ".py",
   "mimetype": "text/x-python",
   "name": "python",
   "nbconvert_exporter": "python",
   "pygments_lexer": "ipython2",
   "version": "2.7.11"
  }
 },
 "nbformat": 4,
 "nbformat_minor": 0
}
